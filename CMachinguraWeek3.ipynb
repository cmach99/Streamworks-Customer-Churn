{
 "cells": [
  {
   "cell_type": "code",
   "execution_count": 368,
   "id": "fbce2d1b-9e19-4463-8420-a503f3db5ebb",
   "metadata": {},
   "outputs": [],
   "source": [
    "import pandas as pd\n",
    "import numpy as np\n",
    "from datetime import datetime\n",
    "import matplotlib.pyplot as plt\n",
    "import seaborn as sns\n",
    "from scipy.stats import chi2_contingency,ttest_ind\n",
    "from sklearn.model_selection import train_test_split\n",
    "from sklearn.linear_model import LinearRegression, LogisticRegression\n",
    "from sklearn.metrics import mean_squared_error, r2_score, classification_report, confusion_matrix\n",
    "from sklearn.metrics import precision_score, recall_score, f1_score, roc_curve, roc_auc_score\n",
    "from sklearn.preprocessing import StandardScaler, LabelEncoder, MinMaxScaler"
   ]
  },
  {
   "cell_type": "markdown",
   "id": "dfb4c54b-ab27-4d37-8598-688b3bef306c",
   "metadata": {},
   "source": [
    "<h3>Load the Dataset and investigate</h3>\n",
    "\n"
   ]
  },
  {
   "cell_type": "code",
   "execution_count": 413,
   "id": "a6905d26-0520-49bc-8618-8c014167cef8",
   "metadata": {},
   "outputs": [
    {
     "data": {
      "text/html": [
       "<div>\n",
       "<style scoped>\n",
       "    .dataframe tbody tr th:only-of-type {\n",
       "        vertical-align: middle;\n",
       "    }\n",
       "\n",
       "    .dataframe tbody tr th {\n",
       "        vertical-align: top;\n",
       "    }\n",
       "\n",
       "    .dataframe thead th {\n",
       "        text-align: right;\n",
       "    }\n",
       "</style>\n",
       "<table border=\"1\" class=\"dataframe\">\n",
       "  <thead>\n",
       "    <tr style=\"text-align: right;\">\n",
       "      <th></th>\n",
       "      <th>user_id</th>\n",
       "      <th>age</th>\n",
       "      <th>gender</th>\n",
       "      <th>signup_date</th>\n",
       "      <th>last_active_date</th>\n",
       "      <th>country</th>\n",
       "      <th>subscription_type</th>\n",
       "      <th>average_watch_hours</th>\n",
       "      <th>mobile_app_usage_pct</th>\n",
       "      <th>complaints_raised</th>\n",
       "      <th>received_promotions</th>\n",
       "      <th>referred_by_friend</th>\n",
       "      <th>is_churned</th>\n",
       "      <th>monthly_fee</th>\n",
       "    </tr>\n",
       "  </thead>\n",
       "  <tbody>\n",
       "    <tr>\n",
       "      <th>0</th>\n",
       "      <td>1001.0</td>\n",
       "      <td>56.0</td>\n",
       "      <td>Other</td>\n",
       "      <td>02-04-25</td>\n",
       "      <td>13-07-25</td>\n",
       "      <td>France</td>\n",
       "      <td>Standard</td>\n",
       "      <td>42.6</td>\n",
       "      <td>77.4</td>\n",
       "      <td>1.0</td>\n",
       "      <td>No</td>\n",
       "      <td>No</td>\n",
       "      <td>1.0</td>\n",
       "      <td>10.99</td>\n",
       "    </tr>\n",
       "    <tr>\n",
       "      <th>1</th>\n",
       "      <td>1002.0</td>\n",
       "      <td>69.0</td>\n",
       "      <td>Male</td>\n",
       "      <td>02-01-23</td>\n",
       "      <td>13-07-25</td>\n",
       "      <td>India</td>\n",
       "      <td>Basic</td>\n",
       "      <td>65.3</td>\n",
       "      <td>98.0</td>\n",
       "      <td>4.0</td>\n",
       "      <td>No</td>\n",
       "      <td>Yes</td>\n",
       "      <td>1.0</td>\n",
       "      <td>5.99</td>\n",
       "    </tr>\n",
       "    <tr>\n",
       "      <th>2</th>\n",
       "      <td>1003.0</td>\n",
       "      <td>46.0</td>\n",
       "      <td>Male</td>\n",
       "      <td>21-08-22</td>\n",
       "      <td>13-07-25</td>\n",
       "      <td>UK</td>\n",
       "      <td>Premium</td>\n",
       "      <td>40.1</td>\n",
       "      <td>47.8</td>\n",
       "      <td>0.0</td>\n",
       "      <td>No</td>\n",
       "      <td>Yes</td>\n",
       "      <td>1.0</td>\n",
       "      <td>13.99</td>\n",
       "    </tr>\n",
       "    <tr>\n",
       "      <th>3</th>\n",
       "      <td>1004.0</td>\n",
       "      <td>32.0</td>\n",
       "      <td>Other</td>\n",
       "      <td>14-09-23</td>\n",
       "      <td>13-07-25</td>\n",
       "      <td>Germany</td>\n",
       "      <td>Premium</td>\n",
       "      <td>5.8</td>\n",
       "      <td>53.2</td>\n",
       "      <td>1.0</td>\n",
       "      <td>Yes</td>\n",
       "      <td>Yes</td>\n",
       "      <td>1.0</td>\n",
       "      <td>13.99</td>\n",
       "    </tr>\n",
       "    <tr>\n",
       "      <th>4</th>\n",
       "      <td>1005.0</td>\n",
       "      <td>60.0</td>\n",
       "      <td>Female</td>\n",
       "      <td>29-07-23</td>\n",
       "      <td>13-07-25</td>\n",
       "      <td>India</td>\n",
       "      <td>Standard</td>\n",
       "      <td>32.7</td>\n",
       "      <td>16.8</td>\n",
       "      <td>5.0</td>\n",
       "      <td>No</td>\n",
       "      <td>Yes</td>\n",
       "      <td>0.0</td>\n",
       "      <td>9.99</td>\n",
       "    </tr>\n",
       "    <tr>\n",
       "      <th>5</th>\n",
       "      <td>1006.0</td>\n",
       "      <td>25.0</td>\n",
       "      <td>Male</td>\n",
       "      <td>25-06-23</td>\n",
       "      <td>13-07-25</td>\n",
       "      <td>USA</td>\n",
       "      <td>Premium</td>\n",
       "      <td>40.0</td>\n",
       "      <td>24.7</td>\n",
       "      <td>1.0</td>\n",
       "      <td>No</td>\n",
       "      <td>Yes</td>\n",
       "      <td>0.0</td>\n",
       "      <td>13.99</td>\n",
       "    </tr>\n",
       "    <tr>\n",
       "      <th>6</th>\n",
       "      <td>1007.0</td>\n",
       "      <td>38.0</td>\n",
       "      <td>Male</td>\n",
       "      <td>15-02-23</td>\n",
       "      <td>13-07-25</td>\n",
       "      <td>UK</td>\n",
       "      <td>Premium</td>\n",
       "      <td>57.8</td>\n",
       "      <td>83.9</td>\n",
       "      <td>0.0</td>\n",
       "      <td>No</td>\n",
       "      <td>Yes</td>\n",
       "      <td>0.0</td>\n",
       "      <td>14.99</td>\n",
       "    </tr>\n",
       "    <tr>\n",
       "      <th>7</th>\n",
       "      <td>1008.0</td>\n",
       "      <td>56.0</td>\n",
       "      <td>Male</td>\n",
       "      <td>20-12-22</td>\n",
       "      <td>13-07-25</td>\n",
       "      <td>Germany</td>\n",
       "      <td>Premium</td>\n",
       "      <td>9.0</td>\n",
       "      <td>35.6</td>\n",
       "      <td>5.0</td>\n",
       "      <td>No</td>\n",
       "      <td>Yes</td>\n",
       "      <td>0.0</td>\n",
       "      <td>14.99</td>\n",
       "    </tr>\n",
       "    <tr>\n",
       "      <th>8</th>\n",
       "      <td>1009.0</td>\n",
       "      <td>36.0</td>\n",
       "      <td>Other</td>\n",
       "      <td>30-05-25</td>\n",
       "      <td>13-07-25</td>\n",
       "      <td>UK</td>\n",
       "      <td>Standard</td>\n",
       "      <td>11.6</td>\n",
       "      <td>82.7</td>\n",
       "      <td>1.0</td>\n",
       "      <td>No</td>\n",
       "      <td>Yes</td>\n",
       "      <td>0.0</td>\n",
       "      <td>NaN</td>\n",
       "    </tr>\n",
       "    <tr>\n",
       "      <th>9</th>\n",
       "      <td>1010.0</td>\n",
       "      <td>40.0</td>\n",
       "      <td>Male</td>\n",
       "      <td>07-11-24</td>\n",
       "      <td>13-07-25</td>\n",
       "      <td>France</td>\n",
       "      <td>Basic</td>\n",
       "      <td>21.5</td>\n",
       "      <td>70.9</td>\n",
       "      <td>5.0</td>\n",
       "      <td>Yes</td>\n",
       "      <td>Yes</td>\n",
       "      <td>0.0</td>\n",
       "      <td>6.99</td>\n",
       "    </tr>\n",
       "  </tbody>\n",
       "</table>\n",
       "</div>"
      ],
      "text/plain": [
       "   user_id   age  gender signup_date last_active_date  country  \\\n",
       "0   1001.0  56.0   Other    02-04-25         13-07-25   France   \n",
       "1   1002.0  69.0    Male    02-01-23         13-07-25    India   \n",
       "2   1003.0  46.0    Male    21-08-22         13-07-25       UK   \n",
       "3   1004.0  32.0   Other    14-09-23         13-07-25  Germany   \n",
       "4   1005.0  60.0  Female    29-07-23         13-07-25    India   \n",
       "5   1006.0  25.0    Male    25-06-23         13-07-25      USA   \n",
       "6   1007.0  38.0    Male    15-02-23         13-07-25       UK   \n",
       "7   1008.0  56.0    Male    20-12-22         13-07-25  Germany   \n",
       "8   1009.0  36.0   Other    30-05-25         13-07-25       UK   \n",
       "9   1010.0  40.0    Male    07-11-24         13-07-25   France   \n",
       "\n",
       "  subscription_type  average_watch_hours  mobile_app_usage_pct  \\\n",
       "0          Standard                 42.6                  77.4   \n",
       "1             Basic                 65.3                  98.0   \n",
       "2           Premium                 40.1                  47.8   \n",
       "3           Premium                  5.8                  53.2   \n",
       "4          Standard                 32.7                  16.8   \n",
       "5           Premium                 40.0                  24.7   \n",
       "6           Premium                 57.8                  83.9   \n",
       "7           Premium                  9.0                  35.6   \n",
       "8          Standard                 11.6                  82.7   \n",
       "9             Basic                 21.5                  70.9   \n",
       "\n",
       "   complaints_raised received_promotions referred_by_friend  is_churned  \\\n",
       "0                1.0                  No                 No         1.0   \n",
       "1                4.0                  No                Yes         1.0   \n",
       "2                0.0                  No                Yes         1.0   \n",
       "3                1.0                 Yes                Yes         1.0   \n",
       "4                5.0                  No                Yes         0.0   \n",
       "5                1.0                  No                Yes         0.0   \n",
       "6                0.0                  No                Yes         0.0   \n",
       "7                5.0                  No                Yes         0.0   \n",
       "8                1.0                  No                Yes         0.0   \n",
       "9                5.0                 Yes                Yes         0.0   \n",
       "\n",
       "   monthly_fee  \n",
       "0        10.99  \n",
       "1         5.99  \n",
       "2        13.99  \n",
       "3        13.99  \n",
       "4         9.99  \n",
       "5        13.99  \n",
       "6        14.99  \n",
       "7        14.99  \n",
       "8          NaN  \n",
       "9         6.99  "
      ]
     },
     "execution_count": 413,
     "metadata": {},
     "output_type": "execute_result"
    }
   ],
   "source": [
    "streamworks_user =  pd.read_csv('streamworks_user_data.csv')\n",
    "streamworks_user.head(10)"
   ]
  },
  {
   "cell_type": "markdown",
   "id": "77ad1ea3-d0dd-4472-b31a-46597eb8bb14",
   "metadata": {},
   "source": [
    "<h4>Data Exploration</h4>"
   ]
  },
  {
   "cell_type": "code",
   "execution_count": 414,
   "id": "d6d0fc53-63b0-47ff-96d2-163a2922910c",
   "metadata": {},
   "outputs": [
    {
     "name": "stdout",
     "output_type": "stream",
     "text": [
      "<class 'pandas.core.frame.DataFrame'>\n",
      "RangeIndex: 1500 entries, 0 to 1499\n",
      "Data columns (total 14 columns):\n",
      " #   Column                Non-Null Count  Dtype  \n",
      "---  ------                --------------  -----  \n",
      " 0   user_id               1498 non-null   float64\n",
      " 1   age                   1497 non-null   float64\n",
      " 2   gender                1499 non-null   object \n",
      " 3   signup_date           1498 non-null   object \n",
      " 4   last_active_date      1498 non-null   object \n",
      " 5   country               1497 non-null   object \n",
      " 6   subscription_type     1497 non-null   object \n",
      " 7   average_watch_hours   1496 non-null   float64\n",
      " 8   mobile_app_usage_pct  1498 non-null   float64\n",
      " 9   complaints_raised     1497 non-null   float64\n",
      " 10  received_promotions   1497 non-null   object \n",
      " 11  referred_by_friend    1497 non-null   object \n",
      " 12  is_churned            1499 non-null   float64\n",
      " 13  monthly_fee           1355 non-null   float64\n",
      "dtypes: float64(7), object(7)\n",
      "memory usage: 164.2+ KB\n"
     ]
    }
   ],
   "source": [
    "streamworks_user.info()"
   ]
  },
  {
   "cell_type": "code",
   "execution_count": 415,
   "id": "aebe9573-a863-434c-911c-1075631804c5",
   "metadata": {},
   "outputs": [
    {
     "data": {
      "text/html": [
       "<div>\n",
       "<style scoped>\n",
       "    .dataframe tbody tr th:only-of-type {\n",
       "        vertical-align: middle;\n",
       "    }\n",
       "\n",
       "    .dataframe tbody tr th {\n",
       "        vertical-align: top;\n",
       "    }\n",
       "\n",
       "    .dataframe thead th {\n",
       "        text-align: right;\n",
       "    }\n",
       "</style>\n",
       "<table border=\"1\" class=\"dataframe\">\n",
       "  <thead>\n",
       "    <tr style=\"text-align: right;\">\n",
       "      <th></th>\n",
       "      <th>user_id</th>\n",
       "      <th>age</th>\n",
       "      <th>average_watch_hours</th>\n",
       "      <th>mobile_app_usage_pct</th>\n",
       "      <th>complaints_raised</th>\n",
       "      <th>is_churned</th>\n",
       "      <th>monthly_fee</th>\n",
       "    </tr>\n",
       "  </thead>\n",
       "  <tbody>\n",
       "    <tr>\n",
       "      <th>count</th>\n",
       "      <td>1498.000000</td>\n",
       "      <td>1497.000000</td>\n",
       "      <td>1496.000000</td>\n",
       "      <td>1498.000000</td>\n",
       "      <td>1497.000000</td>\n",
       "      <td>1499.000000</td>\n",
       "      <td>1355.000000</td>\n",
       "    </tr>\n",
       "    <tr>\n",
       "      <th>mean</th>\n",
       "      <td>1750.871829</td>\n",
       "      <td>43.738811</td>\n",
       "      <td>39.903342</td>\n",
       "      <td>51.414419</td>\n",
       "      <td>2.498330</td>\n",
       "      <td>0.234156</td>\n",
       "      <td>10.180406</td>\n",
       "    </tr>\n",
       "    <tr>\n",
       "      <th>std</th>\n",
       "      <td>433.060980</td>\n",
       "      <td>15.083920</td>\n",
       "      <td>22.978288</td>\n",
       "      <td>28.580117</td>\n",
       "      <td>1.706829</td>\n",
       "      <td>0.423612</td>\n",
       "      <td>3.310705</td>\n",
       "    </tr>\n",
       "    <tr>\n",
       "      <th>min</th>\n",
       "      <td>1001.000000</td>\n",
       "      <td>18.000000</td>\n",
       "      <td>0.500000</td>\n",
       "      <td>0.000000</td>\n",
       "      <td>0.000000</td>\n",
       "      <td>0.000000</td>\n",
       "      <td>5.990000</td>\n",
       "    </tr>\n",
       "    <tr>\n",
       "      <th>25%</th>\n",
       "      <td>1376.250000</td>\n",
       "      <td>31.000000</td>\n",
       "      <td>19.450000</td>\n",
       "      <td>27.100000</td>\n",
       "      <td>1.000000</td>\n",
       "      <td>0.000000</td>\n",
       "      <td>5.990000</td>\n",
       "    </tr>\n",
       "    <tr>\n",
       "      <th>50%</th>\n",
       "      <td>1750.500000</td>\n",
       "      <td>44.000000</td>\n",
       "      <td>40.300000</td>\n",
       "      <td>52.700000</td>\n",
       "      <td>2.000000</td>\n",
       "      <td>0.000000</td>\n",
       "      <td>9.990000</td>\n",
       "    </tr>\n",
       "    <tr>\n",
       "      <th>75%</th>\n",
       "      <td>2125.750000</td>\n",
       "      <td>56.000000</td>\n",
       "      <td>59.800000</td>\n",
       "      <td>76.200000</td>\n",
       "      <td>4.000000</td>\n",
       "      <td>0.000000</td>\n",
       "      <td>13.990000</td>\n",
       "    </tr>\n",
       "    <tr>\n",
       "      <th>max</th>\n",
       "      <td>2500.000000</td>\n",
       "      <td>69.000000</td>\n",
       "      <td>79.900000</td>\n",
       "      <td>100.000000</td>\n",
       "      <td>5.000000</td>\n",
       "      <td>1.000000</td>\n",
       "      <td>14.990000</td>\n",
       "    </tr>\n",
       "  </tbody>\n",
       "</table>\n",
       "</div>"
      ],
      "text/plain": [
       "           user_id          age  average_watch_hours  mobile_app_usage_pct  \\\n",
       "count  1498.000000  1497.000000          1496.000000           1498.000000   \n",
       "mean   1750.871829    43.738811            39.903342             51.414419   \n",
       "std     433.060980    15.083920            22.978288             28.580117   \n",
       "min    1001.000000    18.000000             0.500000              0.000000   \n",
       "25%    1376.250000    31.000000            19.450000             27.100000   \n",
       "50%    1750.500000    44.000000            40.300000             52.700000   \n",
       "75%    2125.750000    56.000000            59.800000             76.200000   \n",
       "max    2500.000000    69.000000            79.900000            100.000000   \n",
       "\n",
       "       complaints_raised   is_churned  monthly_fee  \n",
       "count        1497.000000  1499.000000  1355.000000  \n",
       "mean            2.498330     0.234156    10.180406  \n",
       "std             1.706829     0.423612     3.310705  \n",
       "min             0.000000     0.000000     5.990000  \n",
       "25%             1.000000     0.000000     5.990000  \n",
       "50%             2.000000     0.000000     9.990000  \n",
       "75%             4.000000     0.000000    13.990000  \n",
       "max             5.000000     1.000000    14.990000  "
      ]
     },
     "execution_count": 415,
     "metadata": {},
     "output_type": "execute_result"
    }
   ],
   "source": [
    "streamworks_user.describe()"
   ]
  },
  {
   "cell_type": "code",
   "execution_count": 416,
   "id": "22f32c06-dba0-4219-a096-6b04100910f6",
   "metadata": {},
   "outputs": [
    {
     "data": {
      "text/plain": [
       "user_id  age   gender  signup_date  last_active_date  country  subscription_type  average_watch_hours  mobile_app_usage_pct  complaints_raised  received_promotions  referred_by_friend  is_churned  monthly_fee\n",
       "1001.0   56.0  Other   02-04-25     13-07-25          France   Standard           42.6                 77.4                  1.0                No                   No                  1.0         10.99          1\n",
       "2014.0   42.0  Female  29-08-24     13-07-25          India    Premium            30.0                 83.3                  2.0                No                   Yes                 0.0         13.99          1\n",
       "2012.0   43.0  Other   30-03-24     13-07-25          France   Premium            59.0                 50.4                  3.0                No                   No                  0.0         13.99          1\n",
       "2011.0   39.0  Female  04-07-25     13-07-25          France   Standard           10.2                 94.0                  5.0                No                   Yes                 0.0         9.99           1\n",
       "2010.0   56.0  Female  29-10-23     13-07-25          Canada   Standard           30.2                 46.1                  2.0                No                   No                  1.0         9.99           1\n",
       "                                                                                                                                                                                                                   ..\n",
       "1504.0   39.0  Female  25-01-25     13-07-25          France   Premium            15.5                 36.2                  5.0                No                   Yes                 0.0         14.99          1\n",
       "1503.0   22.0  Male    29-12-22     13-07-25          USA      Premium            13.4                 48.2                  1.0                Yes                  Yes                 0.0         13.99          1\n",
       "1502.0   56.0  Female  11-09-22     13-07-25          USA      Premium            58.8                 62.8                  0.0                Yes                  Yes                 0.0         13.99          1\n",
       "1501.0   33.0  Male    30-08-23     13-07-25          USA      Basic              75.2                 26.9                  5.0                Yes                  No                  1.0         5.99           1\n",
       "2500.0   35.0  Other   26-01-23     13-07-25          Canada   Basic              77.7                 77.6                  2.0                No                   Yes                 0.0         5.99           1\n",
       "Name: count, Length: 1333, dtype: int64"
      ]
     },
     "execution_count": 416,
     "metadata": {},
     "output_type": "execute_result"
    }
   ],
   "source": [
    "streamworks_user.value_counts()"
   ]
  },
  {
   "cell_type": "code",
   "execution_count": 417,
   "id": "7e0591fd-1057-4077-8282-cb9d85b21dcd",
   "metadata": {
    "scrolled": true
   },
   "outputs": [
    {
     "data": {
      "image/png": "[encoded data removed]",
      "text/plain": [
       "<Figure size 800x600 with 2 Axes>"
      ]
     },
     "metadata": {},
     "output_type": "display_data"
    }
   ],
   "source": [
    "#Create a correlation matrix and heatmap (e.g. sns.heatmap()) for numeric variables\n",
    "\n",
    "# establish correlation with heatmap to interpret relation and multicolinearity)\n",
    "stw_corr = streamworks_user.select_dtypes(include='number')\n",
    "stw_corr = stw_corr.corr()\n",
    "\n",
    "#heatmap plot\n",
    "plt.figure(figsize=(8,6))\n",
    "sns.heatmap(stw_corr, annot=True, fmt=\".2f\", cmap='Blues')\n",
    "plt.title('Numeric Values Correlations')\n",
    "plt.show()"
   ]
  },
  {
   "cell_type": "markdown",
   "id": "1721b270-20ea-4818-a77e-a6adb67fc4d2",
   "metadata": {},
   "source": [
    "<h4> Clean & Prepare the Data</h4>"
   ]
  },
  {
   "cell_type": "code",
   "execution_count": 418,
   "id": "0f816626-9b7c-4d10-bcb2-d02974ae5905",
   "metadata": {},
   "outputs": [
    {
     "name": "stdout",
     "output_type": "stream",
     "text": [
      "user_id                 0.133333\n",
      "age                     0.200000\n",
      "gender                  0.066667\n",
      "signup_date             0.133333\n",
      "last_active_date        0.133333\n",
      "country                 0.200000\n",
      "subscription_type       0.200000\n",
      "average_watch_hours     0.266667\n",
      "mobile_app_usage_pct    0.133333\n",
      "complaints_raised       0.200000\n",
      "received_promotions     0.200000\n",
      "referred_by_friend      0.200000\n",
      "is_churned              0.066667\n",
      "monthly_fee             9.666667\n",
      "dtype: float64\n"
     ]
    }
   ],
   "source": [
    "#Missingness as a percentage \n",
    "streamworks_user_perc = streamworks_user.isnull().sum()/streamworks_user.shape[0] * 100\n",
    "print(streamworks_user_perc)"
   ]
  },
  {
   "cell_type": "code",
   "execution_count": 419,
   "id": "dbb1fa9f-08c7-417a-b9e9-cf34577721ce",
   "metadata": {},
   "outputs": [
    {
     "name": "stdout",
     "output_type": "stream",
     "text": [
      "(1500, 14)\n"
     ]
    },
    {
     "data": {
      "text/plain": [
       "(1499, 14)"
      ]
     },
     "execution_count": 419,
     "metadata": {},
     "output_type": "execute_result"
    }
   ],
   "source": [
    "#before dropping dupilicates\n",
    "print(streamworks_user.shape)\n",
    "streamworks_user = streamworks_user.drop_duplicates(['user_id'])\n",
    "#after dropping dupilicates\n",
    "streamworks_user.shape"
   ]
  },
  {
   "cell_type": "code",
   "execution_count": 420,
   "id": "4f2aeaa4-ae0f-4aa6-beeb-188949be5992",
   "metadata": {},
   "outputs": [
    {
     "name": "stdout",
     "output_type": "stream",
     "text": [
      "user_id                 0.000000\n",
      "age                     0.000000\n",
      "gender                  0.000000\n",
      "signup_date             0.000000\n",
      "last_active_date        0.000000\n",
      "country                 0.000000\n",
      "subscription_type       0.000000\n",
      "average_watch_hours     0.000000\n",
      "mobile_app_usage_pct    0.000000\n",
      "complaints_raised       0.000000\n",
      "received_promotions     0.000000\n",
      "referred_by_friend      0.000000\n",
      "is_churned              0.000000\n",
      "monthly_fee             9.688347\n",
      "dtype: float64\n"
     ]
    }
   ],
   "source": [
    "# drop NaN values in columns with less than 5% of missing data except for monthly_fee\n",
    "\n",
    "dropna_columns = ['user_id', 'age', 'gender', 'signup_date', 'last_active_date',\n",
    "       'country', 'subscription_type', 'average_watch_hours',\n",
    "       'mobile_app_usage_pct', 'complaints_raised', 'received_promotions',\n",
    "       'referred_by_friend', 'is_churned']\n",
    "\n",
    "streamworks_user = streamworks_user.dropna(subset= dropna_columns)\n",
    "\n",
    "#check missingness % again\n",
    "streamworks_user_perc = streamworks_user.isnull().sum()/streamworks_user.shape[0] * 100\n",
    "print(streamworks_user_perc)"
   ]
  },
  {
   "cell_type": "code",
   "execution_count": 421,
   "id": "b198470b-5998-4b2a-aa59-df8d5d1a9773",
   "metadata": {},
   "outputs": [],
   "source": [
    "#Convert signup_date, last_active_date to datetime \n",
    "for col in ['signup_date', 'last_active_date']:\n",
    "    streamworks_user[col] = pd.to_datetime(streamworks_user[col], format='%d-%m-%y')\n",
    "    \n"
   ]
  },
  {
   "cell_type": "code",
   "execution_count": 422,
   "id": "1785022b-aef5-43d4-b50c-7883710a38d8",
   "metadata": {},
   "outputs": [
    {
     "name": "stdout",
     "output_type": "stream",
     "text": [
      "user_id : 1476 unique values\n",
      "age : 52 unique values\n",
      "gender : 3 unique values\n",
      "signup_date : 812 unique values\n",
      "last_active_date : 1 unique values\n",
      "country : 6 unique values\n",
      "subscription_type : 3 unique values\n",
      "average_watch_hours : 682 unique values\n",
      "mobile_app_usage_pct : 767 unique values\n",
      "complaints_raised : 6 unique values\n",
      "received_promotions : 2 unique values\n",
      "referred_by_friend : 2 unique values\n",
      "is_churned : 2 unique values\n",
      "monthly_fee : 6 unique values\n"
     ]
    }
   ],
   "source": [
    "#Further data cleaning standardising columns\n",
    "columns = streamworks_user.columns\n",
    "def check_unique_values(streamworks_user, columns):\n",
    "    unique_counts = {}\n",
    "    for col in columns:\n",
    "        unique_counts[col] = streamworks_user[col].nunique()\n",
    "    return unique_counts\n",
    "\n",
    "# List of columns to check\n",
    "columns = streamworks_user.columns \n",
    "\n",
    "# Call the function\n",
    "unique_values_info = check_unique_values(streamworks_user, columns)\n",
    "\n",
    "# Print the results\n",
    "for col, count in unique_values_info.items():\n",
    "    print(f\"{col} : {count} unique values\")\n",
    "\n"
   ]
  },
  {
   "cell_type": "code",
   "execution_count": 423,
   "id": "6bcc52ab-da42-41c7-9a04-b59a7d27e728",
   "metadata": {},
   "outputs": [],
   "source": [
    "# create new features\n",
    "\n",
    "# Calculate 'tenure_days' as days between signup and last active date\n",
    "streamworks_user['tenure_days'] = (streamworks_user['last_active_date'] - streamworks_user['signup_date']).dt.days\n",
    "\n",
    "# Create 'is_loyal' based on 'tenure_days'\n",
    "streamworks_user['is_loyal'] = streamworks_user['tenure_days'] > 180"
   ]
  },
  {
   "cell_type": "code",
   "execution_count": 424,
   "id": "09c8f96d-3392-44f4-84b7-a0914c781300",
   "metadata": {},
   "outputs": [],
   "source": [
    "# address to missing in streamworks_user['monthly_fee'] \n",
    "streamworks_user['monthly_fee'] = streamworks_user['monthly_fee'].mean() "
   ]
  },
  {
   "cell_type": "code",
   "execution_count": 425,
   "id": "948276f5-ed9b-4dff-8eb7-6e6a0993bbcb",
   "metadata": {
    "scrolled": true
   },
   "outputs": [
    {
     "name": "stdout",
     "output_type": "stream",
     "text": [
      "user_id                 0.0\n",
      "age                     0.0\n",
      "gender                  0.0\n",
      "signup_date             0.0\n",
      "last_active_date        0.0\n",
      "country                 0.0\n",
      "subscription_type       0.0\n",
      "average_watch_hours     0.0\n",
      "mobile_app_usage_pct    0.0\n",
      "complaints_raised       0.0\n",
      "received_promotions     0.0\n",
      "referred_by_friend      0.0\n",
      "is_churned              0.0\n",
      "monthly_fee             0.0\n",
      "tenure_days             0.0\n",
      "is_loyal                0.0\n",
      "dtype: float64\n"
     ]
    }
   ],
   "source": [
    "streamworks_user_perc = streamworks_user.isnull().sum()/streamworks_user.shape[0] * 100\n",
    "print(streamworks_user_perc)"
   ]
  },
  {
   "cell_type": "code",
   "execution_count": 426,
   "id": "1c4f3ae0-6f2a-4456-b459-ad4f15df5d18",
   "metadata": {},
   "outputs": [],
   "source": [
    "# Remove columns [ user_id, 'signup_date', 'last_active_date']\n",
    "streamworks_user.drop(['signup_date', 'last_active_date', 'user_id'], axis=1, errors='ignore')\n",
    "\n",
    "# Label Encode binary categorical features\n",
    "features_label_cols = ['referred_by_friend','received_promotions','is_churned', 'is_loyal']\n",
    "le = LabelEncoder()\n",
    "for col in features_label_cols:\n",
    "    streamworks_user[col] = le.fit_transform(streamworks_user[col])\n",
    "\n",
    "#OneHotEncode categorical features pd.get_dummies()\n",
    "features_onehot = ['gender', 'country', 'subscription_type']\n",
    "streamworks_user_encoded = pd.get_dummies(streamworks_user, columns=features_onehot, drop_first=True )\n",
    "\n",
    "# feature scaling these features\n",
    "features_scale_cols = ['age', 'average_watch_hours', 'mobile_app_usage_pct', \n",
    "                       'complaints_raised', 'monthly_fee', 'tenure_days']\n",
    "scaler = MinMaxScaler()\n",
    "streamworks_user[features_scale_cols] = scaler.fit_transform(\n",
    "    streamworks_user[features_scale_cols]\n",
    ")\n"
   ]
  },
  {
   "cell_type": "markdown",
   "id": "84d227f0-9e53-4f29-8bde-b6470a2645b0",
   "metadata": {},
   "source": [
    "<h4>3. Statistical Analysis & Insights</h4>"
   ]
  },
  {
   "cell_type": "code",
   "execution_count": 427,
   "id": "75a918ac-9c06-4292-8f06-c27206966ef5",
   "metadata": {},
   "outputs": [
    {
     "name": "stdout",
     "output_type": "stream",
     "text": [
      "gender vs. is_churned: p-value = 0.1336 (not significant)\n",
      "received_promotions vs. is_churned: p-value = 0.1130 (not significant)\n",
      "referred_by_friend vs. is_churned: p-value = 0.5397 (not significant)\n"
     ]
    }
   ],
   "source": [
    "#Use Chi-square test to check if churn is related to gender, received_promotions, or referred_by_friend\n",
    "#variables to test\n",
    "col_test = ['gender', 'received_promotions', 'referred_by_friend']\n",
    "\n",
    "for col in col_test:\n",
    "    contingency_table = pd.crosstab(streamworks_user[col], streamworks_user['is_churned'])\n",
    "    _, p_value, _, _ = chi2_contingency(contingency_table)\n",
    "    significance = 'significant' if p_value < 0.05 else 'not significant'\n",
    "    print(f\"{col} vs. is_churned: p-value = {p_value:.4f} ({significance})\")\n",
    "\n"
   ]
  },
  {
   "cell_type": "code",
   "execution_count": 428,
   "id": "0b69da03-3f69-4aa7-9cd7-c745b2859b82",
   "metadata": {},
   "outputs": [
    {
     "name": "stdout",
     "output_type": "stream",
     "text": [
      "T-test results:\n",
      "t-statistic = -0.2721\n",
      "p-value = 0.7856\n"
     ]
    }
   ],
   "source": [
    "#Use a t-test to check if watch time differs significantly between churned and retained users\n",
    "\n",
    "# Separate watch time data for each group\n",
    "watch_time_churned = streamworks_user[streamworks_user['is_churned'] == 1]['average_watch_hours']\n",
    "watch_time_retained = streamworks_user[streamworks_user['is_churned'] == 0]['average_watch_hours']\n",
    "\n",
    "# Perform independent t-test\n",
    "t_stat, p_value = ttest_ind(watch_time_churned, watch_time_retained, equal_var=False)\n",
    "\n",
    "print(f\"T-test results:\")\n",
    "print(f\"t-statistic = {t_stat:.4f}\")\n",
    "print(f\"p-value = {p_value:.4f}\")\n"
   ]
  },
  {
   "cell_type": "raw",
   "id": "b4ff8096-b00b-4de1-8f1a-1bf1bca38e51",
   "metadata": {},
   "source": [
    "The p-value of 0.7856 exceeds the common significance level of 0.05, we fail to reject the null hypothesis, indicating no significant difference in watch time between churned and retained users. Therefore, based on this data, we cannot conclude that watch time varies significantly between the two groups."
   ]
  },
  {
   "cell_type": "code",
   "execution_count": 429,
   "id": "83f90624-43d0-4ce7-a7ec-3ac82305e4de",
   "metadata": {},
   "outputs": [
    {
     "data": {
      "image/png": "[encoded data removed]",
      "text/plain": [
       "<Figure size 300x200 with 1 Axes>"
      ]
     },
     "metadata": {},
     "output_type": "display_data"
    },
    {
     "data": {
      "image/png": "[encoded data removed]",
      "text/plain": [
       "<Figure size 300x200 with 1 Axes>"
      ]
     },
     "metadata": {},
     "output_type": "display_data"
    }
   ],
   "source": [
    "# Boxplot Age\n",
    "plt.figure(figsize=(3, 2)) \n",
    "sns.boxplot(x='is_churned', y='age', data=streamworks_user)\n",
    "plt.title('Age Distribution by Churn Status')\n",
    "plt.xlabel('Is Churned (0: Active, 1: Churned)')\n",
    "plt.ylabel('Age')\n",
    "plt.xticks([0, 1], ['Active', 'Churned'])  \n",
    "plt.show()\n",
    "\n",
    "#Boxplot average_watch_hours\n",
    "plt.figure(figsize=(3, 2)) \n",
    "sns.boxplot(x='is_churned', y='average_watch_hours', data=streamworks_user)\n",
    "plt.title('Watch Time Distribution by Churn Status')\n",
    "plt.xlabel('Is Churned (0: Active, 1: Churned)')\n",
    "plt.ylabel('Average Watch Time')\n",
    "plt.xticks([0, 1], ['Active', 'Churned'])  \n",
    "plt.show()\n"
   ]
  },
  {
   "cell_type": "markdown",
   "id": "99ef7580-6059-4af5-9aec-ed5280ce695f",
   "metadata": {},
   "source": [
    "<h4>4. Predictive Modelling</h4>"
   ]
  },
  {
   "cell_type": "markdown",
   "id": "9089cf62-c6ae-4393-b90c-d84f7f189546",
   "metadata": {},
   "source": [
    "<h6>Define Features(X) and target (y)</h6>"
   ]
  },
  {
   "cell_type": "code",
   "execution_count": 439,
   "id": "b5d70510-653d-47a8-a7e2-27a2f611c18a",
   "metadata": {},
   "outputs": [],
   "source": [
    "X = streamworks_user[[ 'age', 'average_watch_hours',\n",
    "       'mobile_app_usage_pct', 'complaints_raised', 'received_promotions',\n",
    "       'referred_by_friend', 'monthly_fee', 'tenure_days',\n",
    "       'is_loyal']] \n",
    "y = streamworks_user['is_churned']\n"
   ]
  },
  {
   "cell_type": "markdown",
   "id": "8953802b-4b96-41a7-8b99-3c9a36dc328a",
   "metadata": {},
   "source": [
    "<h6>Split Data</h6>"
   ]
  },
  {
   "cell_type": "code",
   "execution_count": 440,
   "id": "7877d8fe-44f5-4673-9421-32be63c4948f",
   "metadata": {},
   "outputs": [],
   "source": [
    "X_train, X_test, y_train, y_test = train_test_split(X, y, test_size=0.30, random_state=42) \n"
   ]
  },
  {
   "cell_type": "markdown",
   "id": "aaf0992f-074e-423c-83a4-ee7e105cfe43",
   "metadata": {},
   "source": [
    "<h6>Feature Scaling</h6>"
   ]
  },
  {
   "cell_type": "code",
   "execution_count": 441,
   "id": "a9b933d2-dc40-4d7b-a13d-ac17a50cd519",
   "metadata": {},
   "outputs": [],
   "source": [
    "scaler = StandardScaler()\n",
    "X_train = scaler.fit_transform(X_train) # Fit AND transform train data\n",
    "X_test = scaler.transform(X_test)  # Transform test data"
   ]
  },
  {
   "cell_type": "markdown",
   "id": "c0786337-8843-4364-92fb-bb8fa30d4f3f",
   "metadata": {},
   "source": [
    "<h6>Train Model</h6>"
   ]
  },
  {
   "cell_type": "code",
   "execution_count": 442,
   "id": "cc66fbec-16c2-4989-aab1-9f31bc85c38e",
   "metadata": {},
   "outputs": [
    {
     "data": {
      "text/html": [
       "<style>#sk-container-id-12 {color: black;}#sk-container-id-12 pre{padding: 0;}#sk-container-id-12 div.sk-toggleable {background-color: white;}#sk-container-id-12 label.sk-toggleable__label {cursor: pointer;display: block;width: 100%;margin-bottom: 0;padding: 0.3em;box-sizing: border-box;text-align: center;}#sk-container-id-12 label.sk-toggleable__label-arrow:before {content: \"▸\";float: left;margin-right: 0.25em;color: #696969;}#sk-container-id-12 label.sk-toggleable__label-arrow:hover:before {color: black;}#sk-container-id-12 div.sk-estimator:hover label.sk-toggleable__label-arrow:before {color: black;}#sk-container-id-12 div.sk-toggleable__content {max-height: 0;max-width: 0;overflow: hidden;text-align: left;background-color: #f0f8ff;}#sk-container-id-12 div.sk-toggleable__content pre {margin: 0.2em;color: black;border-radius: 0.25em;background-color: #f0f8ff;}#sk-container-id-12 input.sk-toggleable__control:checked~div.sk-toggleable__content {max-height: 200px;max-width: 100%;overflow: auto;}#sk-container-id-12 input.sk-toggleable__control:checked~label.sk-toggleable__label-arrow:before {content: \"▾\";}#sk-container-id-12 div.sk-estimator input.sk-toggleable__control:checked~label.sk-toggleable__label {background-color: #d4ebff;}#sk-container-id-12 div.sk-label input.sk-toggleable__control:checked~label.sk-toggleable__label {background-color: #d4ebff;}#sk-container-id-12 input.sk-hidden--visually {border: 0;clip: rect(1px 1px 1px 1px);clip: rect(1px, 1px, 1px, 1px);height: 1px;margin: -1px;overflow: hidden;padding: 0;position: absolute;width: 1px;}#sk-container-id-12 div.sk-estimator {font-family: monospace;background-color: #f0f8ff;border: 1px dotted black;border-radius: 0.25em;box-sizing: border-box;margin-bottom: 0.5em;}#sk-container-id-12 div.sk-estimator:hover {background-color: #d4ebff;}#sk-container-id-12 div.sk-parallel-item::after {content: \"\";width: 100%;border-bottom: 1px solid gray;flex-grow: 1;}#sk-container-id-12 div.sk-label:hover label.sk-toggleable__label {background-color: #d4ebff;}#sk-container-id-12 div.sk-serial::before {content: \"\";position: absolute;border-left: 1px solid gray;box-sizing: border-box;top: 0;bottom: 0;left: 50%;z-index: 0;}#sk-container-id-12 div.sk-serial {display: flex;flex-direction: column;align-items: center;background-color: white;padding-right: 0.2em;padding-left: 0.2em;position: relative;}#sk-container-id-12 div.sk-item {position: relative;z-index: 1;}#sk-container-id-12 div.sk-parallel {display: flex;align-items: stretch;justify-content: center;background-color: white;position: relative;}#sk-container-id-12 div.sk-item::before, #sk-container-id-12 div.sk-parallel-item::before {content: \"\";position: absolute;border-left: 1px solid gray;box-sizing: border-box;top: 0;bottom: 0;left: 50%;z-index: -1;}#sk-container-id-12 div.sk-parallel-item {display: flex;flex-direction: column;z-index: 1;position: relative;background-color: white;}#sk-container-id-12 div.sk-parallel-item:first-child::after {align-self: flex-end;width: 50%;}#sk-container-id-12 div.sk-parallel-item:last-child::after {align-self: flex-start;width: 50%;}#sk-container-id-12 div.sk-parallel-item:only-child::after {width: 0;}#sk-container-id-12 div.sk-dashed-wrapped {border: 1px dashed gray;margin: 0 0.4em 0.5em 0.4em;box-sizing: border-box;padding-bottom: 0.4em;background-color: white;}#sk-container-id-12 div.sk-label label {font-family: monospace;font-weight: bold;display: inline-block;line-height: 1.2em;}#sk-container-id-12 div.sk-label-container {text-align: center;}#sk-container-id-12 div.sk-container {/* jupyter's `normalize.less` sets `[hidden] { display: none; }` but bootstrap.min.css set `[hidden] { display: none !important; }` so we also need the `!important` here to be able to override the default hidden behavior on the sphinx rendered scikit-learn.org. See: https://github.com/scikit-learn/scikit-learn/issues/21755 */display: inline-block !important;position: relative;}#sk-container-id-12 div.sk-text-repr-fallback {display: none;}</style><div id=\"sk-container-id-12\" class=\"sk-top-container\"><div class=\"sk-text-repr-fallback\"><pre>LogisticRegression(class_weight=&#x27;balanced&#x27;, random_state=42, solver=&#x27;liblinear&#x27;)</pre><b>In a Jupyter environment, please rerun this cell to show the HTML representation or trust the notebook. <br />On GitHub, the HTML representation is unable to render, please try loading this page with nbviewer.org.</b></div><div class=\"sk-container\" hidden><div class=\"sk-item\"><div class=\"sk-estimator sk-toggleable\"><input class=\"sk-toggleable__control sk-hidden--visually\" id=\"sk-estimator-id-12\" type=\"checkbox\" checked><label for=\"sk-estimator-id-12\" class=\"sk-toggleable__label sk-toggleable__label-arrow\">LogisticRegression</label><div class=\"sk-toggleable__content\"><pre>LogisticRegression(class_weight=&#x27;balanced&#x27;, random_state=42, solver=&#x27;liblinear&#x27;)</pre></div></div></div></div></div>"
      ],
      "text/plain": [
       "LogisticRegression(class_weight='balanced', random_state=42, solver='liblinear')"
      ]
     },
     "execution_count": 442,
     "metadata": {},
     "output_type": "execute_result"
    }
   ],
   "source": [
    "\n",
    "# Initialise logistic regression with class_weight='balanced'\n",
    "model = LogisticRegression(class_weight='balanced', solver='liblinear', random_state=42)  # 'liblinear' works well for small datasets\n",
    "model.fit(X_train, y_train)"
   ]
  },
  {
   "cell_type": "markdown",
   "id": "aec6ad24-1efc-4763-a180-2856402d7ee6",
   "metadata": {},
   "source": [
    "<h6>Predictions</h6>"
   ]
  },
  {
   "cell_type": "code",
   "execution_count": 454,
   "id": "73cd5635-9daf-43c3-9429-ca6ac78714f4",
   "metadata": {},
   "outputs": [],
   "source": [
    "y_pred = model.predict(X_test)  # Predicted classes (0 or 1)\n",
    "y_prob = model.predict_proba(X_test)[:, 1]  # Predicted probabilities for class 1"
   ]
  },
  {
   "cell_type": "markdown",
   "id": "b180721c-b803-434c-93f1-9979dd9230c2",
   "metadata": {},
   "source": [
    "<h6>Model Evaluation</h6>"
   ]
  },
  {
   "cell_type": "code",
   "execution_count": 455,
   "id": "b7fc7f89-6289-4f4c-a222-8c3efc4b57be",
   "metadata": {
    "scrolled": true
   },
   "outputs": [
    {
     "data": {
      "image/png": "[encoded data removed]",
      "text/plain": [
       "<Figure size 400x200 with 2 Axes>"
      ]
     },
     "metadata": {},
     "output_type": "display_data"
    },
    {
     "name": "stdout",
     "output_type": "stream",
     "text": [
      "Adjusted Precision: 0.2483\n",
      "Adjusted Recall: 1.0000\n",
      "Adjusted F1 Score: 0.3978\n"
     ]
    },
    {
     "data": {
      "image/png": "[encoded data removed]",
      "text/plain": [
       "<Figure size 640x480 with 1 Axes>"
      ]
     },
     "metadata": {},
     "output_type": "display_data"
    }
   ],
   "source": [
    "# Confusion Matrix\n",
    "cm = confusion_matrix(y_test, y_pred)\n",
    "plt.figure(figsize=(4,2))\n",
    "sns.heatmap(cm, annot=True, fmt=\".3f\", cmap='Blues')\n",
    "plt.xlabel('Predicted')\n",
    "plt.ylabel('Actual')\n",
    "plt.show()\n",
    "\n",
    "\n",
    "# Predict probabilities\n",
    "y_probs = model.predict_proba(X_test)[:, 1]  # Get probabilities for the positive class\n",
    "\n",
    "# Adjust threshold\n",
    "threshold = 0.3\n",
    "y_pred_adjusted = (y_probs > threshold).astype(int)\n",
    "\n",
    "# Calculate metrics with adjusted threshold\n",
    "adjusted_precision = precision_score(y_test, y_pred_adjusted, zero_division=1)\n",
    "adjusted_recall = recall_score(y_test, y_pred_adjusted, zero_division=1)\n",
    "adjusted_f1 = f1_score(y_test, y_pred_adjusted, zero_division=1)\n",
    "\n",
    "print(f\"Adjusted Precision: {adjusted_precision:.4f}\")\n",
    "print(f\"Adjusted Recall: {adjusted_recall:.4f}\")\n",
    "print(f\"Adjusted F1 Score: {adjusted_f1:.4f}\")\n",
    "\n",
    "\n",
    "# ROC Curve and AUC Score\n",
    "fpr, tpr, thresholds = roc_curve(y_test, y_prob)\n",
    "auc = roc_auc_score(y_test, y_prob)\n",
    "plt.plot(fpr, tpr, label=f\"AUC = {auc:.4f}\")\n",
    "plt.plot([0, 1], [0, 1], linestyle='--')\n",
    "plt.xlabel('False Positive Rate')\n",
    "plt.ylabel('True Positive Rate')\n",
    "plt.title('ROC Curve')\n",
    "plt.legend()\n",
    "plt.show()"
   ]
  },
  {
   "cell_type": "raw",
   "id": "8a4ca11d-1cb3-48c9-a87e-cf1e20a71548",
   "metadata": {},
   "source": []
  },
  {
   "cell_type": "markdown",
   "id": "fb9632af-e631-41cd-8b56-ebd99dd22af8",
   "metadata": {},
   "source": [
    "<h4>Business Questions</h4>"
   ]
  },
  {
   "cell_type": "markdown",
   "id": "8a82446e-84cf-4dbd-92e4-6831b2753723",
   "metadata": {},
   "source": [
    "<h6>Do users who receive promotions churn less?</h6>"
   ]
  },
  {
   "cell_type": "code",
   "execution_count": 410,
   "id": "40b32bfa-1a3c-4e58-9579-664664b538fe",
   "metadata": {},
   "outputs": [
    {
     "name": "stdout",
     "output_type": "stream",
     "text": [
      "Churn rate with promotion: 21.19%\n",
      "Churn rate without promotion: 24.80%\n"
     ]
    }
   ],
   "source": [
    "# Churn rate among promoted users\n",
    "promoted_churn_rate = streamworks_user[streamworks_user['received_promotions'] == 1]['is_churned'].mean()\n",
    "\n",
    "# Churn rate among non-promoted users\n",
    "non_promoted_churn_rate = streamworks_user[streamworks_user['received_promotions'] == 0]['is_churned'].mean()\n",
    "\n",
    "print(f\"Churn rate with promotion: {promoted_churn_rate:.2%}\")\n",
    "print(f\"Churn rate without promotion: {non_promoted_churn_rate:.2%}\")\n"
   ]
  },
  {
   "cell_type": "markdown",
   "id": "6aa2d119-c46b-40b0-91fb-27daea96ebcf",
   "metadata": {},
   "source": [
    "<h6>Does watch time impact churn likelihood?</h6>"
   ]
  },
  {
   "cell_type": "code",
   "execution_count": 411,
   "id": "1cc3bc7e-96b4-41ef-88e9-cc5750e04a90",
   "metadata": {},
   "outputs": [
    {
     "name": "stdout",
     "output_type": "stream",
     "text": [
      "average_watch_hours vs. is_churned: p-value = 0.3341 (not significant)\n",
      "mobile_app_usage_pct vs. is_churned: p-value = 0.3301 (not significant)\n"
     ]
    }
   ],
   "source": [
    "col_test = ['average_watch_hours', 'mobile_app_usage_pct']\n",
    "\n",
    "for col in col_test:\n",
    "    contingency_table = pd.crosstab(streamworks_user[col], streamworks_user['is_churned'])\n",
    "    _, p_value, _, _ = chi2_contingency(contingency_table)\n",
    "    significance = 'significant' if p_value < 0.05 else 'not significant'\n",
    "    print(f\"{col} vs. is_churned: p-value = {p_value:.4f} ({significance})\")"
   ]
  },
  {
   "cell_type": "markdown",
   "id": "37d5aba2-cda7-4865-be11-66a857e22413",
   "metadata": {},
   "source": [
    "<h6>What are the top 3 features influencing churn based on your model?</h6>"
   ]
  },
  {
   "cell_type": "code",
   "execution_count": 412,
   "id": "45c1189c-918a-41c0-9ad5-04c076d82470",
   "metadata": {},
   "outputs": [
    {
     "name": "stdout",
     "output_type": "stream",
     "text": [
      "               feature  coefficient  abs_coefficient\n",
      "4  received_promotions    -0.131804         0.131804\n",
      "8             is_loyal     0.101373         0.101373\n",
      "1  average_watch_hours    -0.059757         0.059757\n"
     ]
    }
   ],
   "source": [
    "\n",
    "# Get feature names\n",
    "feature_names = X.columns\n",
    "\n",
    "# Retrieve the coefficients\n",
    "coefficients = model.coef_[0]\n",
    "\n",
    "# Create a DataFrame for easier interpretation\n",
    "coef_df = pd.DataFrame({\n",
    "    'feature': feature_names,\n",
    "    'coefficient': coefficients\n",
    "})\n",
    "\n",
    "# Calculate the absolute value to assess importance regardless of direction\n",
    "coef_df['abs_coefficient'] = coef_df['coefficient'].abs()\n",
    "\n",
    "# Sort features by importance\n",
    "top_features = coef_df.sort_values(by='abs_coefficient', ascending=False).head(3)\n",
    "\n",
    "print(top_features)\n"
   ]
  },
  {
   "cell_type": "raw",
   "id": "d5acbc43-6556-4817-895e-080308ecda46",
   "metadata": {},
   "source": []
  },
  {
   "cell_type": "markdown",
   "id": "675fecd4-4d32-4d10-847d-587110af325d",
   "metadata": {},
   "source": [
    "<h6>Which customer segments should the retention team prioritise?</h6>"
   ]
  },
  {
   "cell_type": "code",
   "execution_count": null,
   "id": "e86c1289-8ad9-4c8d-88b5-5cc0d49b4938",
   "metadata": {},
   "outputs": [],
   "source": []
  }
 ],
 "metadata": {
  "kernelspec": {
   "display_name": "Python 3 (ipykernel)",
   "language": "python",
   "name": "python3"
  },
  "language_info": {
   "codemirror_mode": {
    "name": "ipython",
    "version": 3
   },
   "file_extension": ".py",
   "mimetype": "text/x-python",
   "name": "python",
   "nbconvert_exporter": "python",
   "pygments_lexer": "ipython3",
   "version": "3.8.5"
  }
 },
 "nbformat": 4,
 "nbformat_minor": 5
}
